{
 "cells": [
  {
   "cell_type": "code",
   "execution_count": 26,
   "metadata": {},
   "outputs": [],
   "source": [
    "import imagehash\n",
    "from PIL import Image"
   ]
  },
  {
   "cell_type": "code",
   "execution_count": 27,
   "metadata": {},
   "outputs": [],
   "source": [
    "def mapRanges(inputValue: float, inMin: float, inMax: float, outMin: float, outMax: float):\n",
    "    \"\"\"\n",
    "    Map a given value from range 1 -> range 2\n",
    "    :param inputValue: The value you want to map\n",
    "    :param inMin: Minimum Value of Range 1\n",
    "    :param inMax: Maximum Value of Range 1\n",
    "    :param outMin: Minimum Value of Range 2\n",
    "    :param outMax: Maximum Value of Range 2\n",
    "    :return: The new Value in Range 2\n",
    "    \"\"\"\n",
    "    slope = (outMax - outMin) / (inMax - inMin)\n",
    "    newValue = outMin + slope * (inputValue - inMin)\n",
    "    return newValue"
   ]
  },
  {
   "cell_type": "code",
   "execution_count": 28,
   "metadata": {},
   "outputs": [],
   "source": [
    "image1 = Image.open('../images/yellow.png')\n",
    "image2 = Image.open('../images/red_some_yellow.png')"
   ]
  },
  {
   "cell_type": "code",
   "execution_count": 29,
   "metadata": {},
   "outputs": [
    {
     "name": "stdout",
     "output_type": "stream",
     "text": [
      "<PIL.PngImagePlugin.PngImageFile image mode=RGBA size=512x512 at 0x17527129BC8>\n",
      "<PIL.PngImagePlugin.PngImageFile image mode=RGBA size=512x512 at 0x17527129688>\n"
     ]
    }
   ],
   "source": [
    "print(image1)\n",
    "print(image2)"
   ]
  },
  {
   "cell_type": "code",
   "execution_count": 37,
   "metadata": {},
   "outputs": [
    {
     "name": "stdout",
     "output_type": "stream",
     "text": [
      "b8713871c78ec78ec78e387138713871c78ec78ec30e38713871c70ec78ec78e\n",
      "ff2b4a2ebab27922fbbf4a28f0005a2ffaaf5920f2ba5d2ef0225866f0020d2e\n"
     ]
    }
   ],
   "source": [
    "hash1 = imagehash.phash(image1, hash_size=16)\n",
    "hash2 = imagehash.phash(image2, hash_size=16)\n",
    "print(hash1)\n",
    "print(hash2)"
   ]
  },
  {
   "cell_type": "code",
   "execution_count": 38,
   "metadata": {},
   "outputs": [
    {
     "name": "stdout",
     "output_type": "stream",
     "text": [
      "<class 'imagehash.ImageHash'>\n",
      "256\n"
     ]
    }
   ],
   "source": [
    "print(type(hash1))\n",
    "print(hash1.hash.size)"
   ]
  }
 ],
 "metadata": {
  "kernelspec": {
   "display_name": "Python 3",
   "language": "python",
   "name": "python3"
  },
  "language_info": {
   "codemirror_mode": {
    "name": "ipython",
    "version": 3
   },
   "file_extension": ".py",
   "mimetype": "text/x-python",
   "name": "python",
   "nbconvert_exporter": "python",
   "pygments_lexer": "ipython3",
   "version": "3.7.4"
  }
 },
 "nbformat": 4,
 "nbformat_minor": 1
}