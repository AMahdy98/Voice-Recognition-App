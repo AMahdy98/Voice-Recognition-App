{
 "cells": [
  {
   "cell_type": "code",
   "execution_count": 147,
   "metadata": {},
   "outputs": [],
   "source": [
    "import imagehash, cv2\n",
    "from PIL import Image\n",
    "import matplotlib.pyplot as plt\n",
    "from matplotlib import cm\n",
    "import numpy as np"
   ]
  },
  {
   "cell_type": "code",
   "execution_count": 177,
   "metadata": {},
   "outputs": [
    {
     "data": {
      "text/plain": [
       "((1, 2, 3), (4, 5, 6), (7, 8, 9))"
      ]
     },
     "execution_count": 177,
     "metadata": {},
     "output_type": "execute_result"
    }
   ],
   "source": [
    "x_arr = [[1, 2, 3], [4, 5, 6], [7, 8, 9]]\n",
    "temp = map(tuple, x_arr)\n",
    "x_tup = tuple(temp)\n",
    "x_tup"
   ]
  },
  {
   "cell_type": "code",
   "execution_count": 148,
   "metadata": {},
   "outputs": [],
   "source": [
    "# fig = plt.figure(figsize=(w,h), dpi=dpi)\n",
    "#     fig.figimage(sub, cmap=cm.gist_earth)"
   ]
  },
  {
   "cell_type": "code",
   "execution_count": 149,
   "metadata": {},
   "outputs": [],
   "source": [
    "image1 = Image.open('images/cat.jpg')\n",
    "image2 = Image.open('images/cat_cr.jpg')"
   ]
  },
  {
   "cell_type": "code",
   "execution_count": 150,
   "metadata": {},
   "outputs": [
    {
     "name": "stdout",
     "output_type": "stream",
     "text": [
      "9151e66a4b4c6ea7\n",
      "9151e66a4bcc6ee4\n"
     ]
    }
   ],
   "source": [
    "hash1 = imagehash.phash(image1)\n",
    "hash2 = imagehash.phash(image2)\n",
    "print(hash1)\n",
    "print(hash2)"
   ]
  },
  {
   "cell_type": "code",
   "execution_count": 151,
   "metadata": {
    "scrolled": true
   },
   "outputs": [
    {
     "name": "stdout",
     "output_type": "stream",
     "text": [
      "<class 'imagehash.ImageHash'>\n",
      "64\n"
     ]
    }
   ],
   "source": [
    "print(type(hash1))\n",
    "print(hash1.hash.size)"
   ]
  },
  {
   "cell_type": "code",
   "execution_count": 195,
   "metadata": {},
   "outputs": [
    {
     "name": "stdout",
     "output_type": "stream",
     "text": [
      "[[[ 99  30 233]\n",
      "  [ 99  30 233]\n",
      "  [ 99  30 233]\n",
      "  ...\n",
      "  [  0   0 213]\n",
      "  [  0   0 213]\n",
      "  [  0   0 213]]\n",
      "\n",
      " [[181  81  63]\n",
      "  [ 57 220 205]\n",
      "  [ 57 220 205]\n",
      "  ...\n",
      "  [  0   0 213]\n",
      "  [  0   0 213]\n",
      "  [  0   0 213]]\n",
      "\n",
      " [[181  81  63]\n",
      "  [ 57 220 205]\n",
      "  [ 57 220 205]\n",
      "  ...\n",
      "  [  0   0 213]\n",
      "  [  0   0 213]\n",
      "  [  0   0 213]]\n",
      "\n",
      " ...\n",
      "\n",
      " [[ 57 220 205]\n",
      "  [ 57 220 205]\n",
      "  [ 57 220 205]\n",
      "  ...\n",
      "  [ 47  47 211]\n",
      "  [ 47  47 211]\n",
      "  [ 47  47 211]]\n",
      "\n",
      " [[ 57 220 205]\n",
      "  [ 57 220 205]\n",
      "  [ 57 220 205]\n",
      "  ...\n",
      "  [ 47  47 211]\n",
      "  [ 47  47 211]\n",
      "  [ 47  47 211]]\n",
      "\n",
      " [[ 57 220 205]\n",
      "  [ 57 220 205]\n",
      "  [ 57 220 205]\n",
      "  ...\n",
      "  [ 47  47 211]\n",
      "  [ 47  47 211]\n",
      "  [ 47  47 211]]]\n"
     ]
    }
   ],
   "source": [
    "# myArray = cv2.imread('images/pixil-frame-0.png')\n",
    "myArray2 = cv2.imread('images/pixil-frame-0.png')\n",
    "print(myArray2)"
   ]
  },
  {
   "cell_type": "code",
   "execution_count": 196,
   "metadata": {},
   "outputs": [],
   "source": [
    "myArray = myArray / myArray.max()"
   ]
  },
  {
   "cell_type": "code",
   "execution_count": 197,
   "metadata": {},
   "outputs": [
    {
     "data": {
      "text/plain": [
       "1.0"
      ]
     },
     "execution_count": 197,
     "metadata": {},
     "output_type": "execute_result"
    }
   ],
   "source": [
    "myArray.max()"
   ]
  },
  {
   "cell_type": "code",
   "execution_count": 202,
   "metadata": {},
   "outputs": [],
   "source": [
    "# im = Image.fromarray(np.uint8(cm.ScalarMappable(myArray)*255))\n",
    "im2 = Image.fromarray(myArray2, 'RGB')"
   ]
  },
  {
   "cell_type": "code",
   "execution_count": 205,
   "metadata": {},
   "outputs": [],
   "source": [
    "im2.save('images/out3.jpg')"
   ]
  },
  {
   "cell_type": "code",
   "execution_count": 211,
   "metadata": {},
   "outputs": [
    {
     "name": "stdout",
     "output_type": "stream",
     "text": [
      "(2, 2, 3)\n",
      "(255, 0, 0)\n",
      "(0, 0, 255)\n",
      "(0, 255, 0)\n",
      "(255, 255, 0)\n"
     ]
    }
   ],
   "source": [
    "pixels = np.array([[[255, 0, 0], [0, 255, 0]], [[0, 0, 255], [255, 255, 0]]])\n",
    "print(pixels.shape)\n",
    "image = Image.fromarray(pixels.astype('uint8'), 'RGB')\n",
    "\n",
    "# Print out the pixel values\n",
    "print(image.getpixel((0, 0)))\n",
    "print(image.getpixel((0, 1)))\n",
    "print(image.getpixel((1, 0)))\n",
    "print(image.getpixel((1, 1)))\n",
    "\n",
    "# Save the image\n",
    "image.save('images/imageout.png')"
   ]
  },
  {
   "cell_type": "code",
   "execution_count": 214,
   "metadata": {},
   "outputs": [],
   "source": [
    "import matplotlib.pyplot as plt\n",
    "plt.imsave('images/newOut.png', myArray2, cmap='Greys')"
   ]
  }
 ],
 "metadata": {
  "kernelspec": {
   "display_name": "Python 3",
   "language": "python",
   "name": "python3"
  },
  "language_info": {
   "codemirror_mode": {
    "name": "ipython",
    "version": 3
   },
   "file_extension": ".py",
   "mimetype": "text/x-python",
   "name": "python",
   "nbconvert_exporter": "python",
   "pygments_lexer": "ipython3",
   "version": "3.7.4"
  }
 },
 "nbformat": 4,
 "nbformat_minor": 1
}
